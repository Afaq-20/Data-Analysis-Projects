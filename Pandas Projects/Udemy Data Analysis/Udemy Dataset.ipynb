{
 "cells": [
  {
   "cell_type": "code",
   "execution_count": 2,
   "id": "01777f1d-7ceb-41f1-aa9b-b16d432955cd",
   "metadata": {},
   "outputs": [],
   "source": [
    "import numpy as np\n",
    "import pandas as pd\n"
   ]
  },
  {
   "cell_type": "code",
   "execution_count": null,
   "id": "e590276e-dee3-4398-a842-cb5c631d7bf8",
   "metadata": {},
   "outputs": [],
   "source": [
    "df = data.read_csv()"
   ]
  },
  {
   "cell_type": "code",
   "execution_count": null,
   "id": "45b825e7-0abc-4918-a795-c0b5e187a64a",
   "metadata": {},
   "outputs": [],
   "source": []
  },
  {
   "cell_type": "raw",
   "id": "2f384410-421c-4280-8957-a0392f00a132",
   "metadata": {},
   "source": []
  },
  {
   "cell_type": "code",
   "execution_count": null,
   "id": "3d807381-034c-42ba-bc11-f9e68a9c7042",
   "metadata": {},
   "outputs": [],
   "source": []
  }
 ],
 "metadata": {
  "kernelspec": {
   "display_name": "Python 3 (ipykernel)",
   "language": "python",
   "name": "python3"
  },
  "language_info": {
   "codemirror_mode": {
    "name": "ipython",
    "version": 3
   },
   "file_extension": ".py",
   "mimetype": "text/x-python",
   "name": "python",
   "nbconvert_exporter": "python",
   "pygments_lexer": "ipython3",
   "version": "3.11.4"
  }
 },
 "nbformat": 4,
 "nbformat_minor": 5
}

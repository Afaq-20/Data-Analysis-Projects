{
 "cells": [
  {
   "cell_type": "code",
   "execution_count": null,
   "id": "fb2a6e00-7ebd-4a72-9a42-9249251eac79",
   "metadata": {},
   "outputs": [],
   "source": [
    "import pandas as pd"
   ]
  },
  {
   "cell_type": "code",
   "execution_count": null,
   "id": "9302a8a1-ce87-470f-a03a-64ce43dfa218",
   "metadata": {},
   "outputs": [],
   "source": [
    "df= pd.read_csv('London dataset.csv')"
   ]
  },
  {
   "cell_type": "code",
   "execution_count": null,
   "id": "f58b6eff-2df2-4404-91ff-88d53de3538e",
   "metadata": {},
   "outputs": [],
   "source": [
    "df.head()"
   ]
  },
  {
   "cell_type": "code",
   "execution_count": null,
   "id": "2f661a32-901e-44a3-a8b8-f1e10dd4e889",
   "metadata": {},
   "outputs": [],
   "source": [
    "df.isnull().sum()"
   ]
  },
  {
   "cell_type": "markdown",
   "id": "aa2279a2-2210-4877-8c79-30613cca8bc2",
   "metadata": {},
   "source": [
    "# Add a new column ''month'' as 2nd column in the dataframe, which contains month only."
   ]
  },
  {
   "cell_type": "code",
   "execution_count": null,
   "id": "9e7e00be-1bee-440a-af14-3b6d7fae16c9",
   "metadata": {},
   "outputs": [],
   "source": [
    "df.dtypes"
   ]
  },
  {
   "cell_type": "code",
   "execution_count": null,
   "id": "498b79d6-1912-48bd-b925-d0eed3ceca9b",
   "metadata": {},
   "outputs": [],
   "source": [
    "df.date = pd.to_datetime(df.date)\n",
    "#df.no_of_crimes = df.no_of_crimes.fillna(0).astype(int)"
   ]
  },
  {
   "cell_type": "code",
   "execution_count": null,
   "id": "6f29396e-0cd0-4d79-ae3c-46f4023b8a7a",
   "metadata": {},
   "outputs": [],
   "source": [
    "df.dtypes"
   ]
  },
  {
   "cell_type": "markdown",
   "id": "72ead8d9-4a19-4e7e-9c75-1d6ad03691d4",
   "metadata": {},
   "source": [
    "# Add a new column ''month'' as 2nd column in the dataframe, which contains month only."
   ]
  },
  {
   "cell_type": "code",
   "execution_count": null,
   "id": "5add5b19-1aeb-4fa4-b2c4-956371038455",
   "metadata": {},
   "outputs": [],
   "source": [
    "df.date"
   ]
  },
  {
   "cell_type": "code",
   "execution_count": null,
   "id": "0c1fb363-065f-4610-bd17-d759521a7bb7",
   "metadata": {},
   "outputs": [],
   "source": [
    "df[\"year\"] = df.date.dt.year"
   ]
  },
  {
   "cell_type": "markdown",
   "id": "3486df1b-b43e-42b7-9fd3-3ca6f299185b",
   "metadata": {},
   "source": [
    "# Add a new column ''month'' as 2nd column in the dataframe, which contains month only."
   ]
  },
  {
   "cell_type": "code",
   "execution_count": null,
   "id": "7d185561-90c9-418f-8500-4ee60d64691f",
   "metadata": {},
   "outputs": [],
   "source": [
    "df.head()"
   ]
  },
  {
   "cell_type": "code",
   "execution_count": null,
   "id": "3a328ee2-78fb-408b-954b-a8af5e52f606",
   "metadata": {},
   "outputs": [],
   "source": [
    "df.insert(1 , 'month', df.date.dt.month)\n"
   ]
  },
  {
   "cell_type": "markdown",
   "id": "8bccf3a3-0355-4af4-8d66-7f09f4bba86b",
   "metadata": {},
   "source": [
    "# Chnage the order of columns"
   ]
  },
  {
   "cell_type": "code",
   "execution_count": null,
   "id": "8dd3627d-e849-4406-b429-249838ba8e81",
   "metadata": {},
   "outputs": [],
   "source": [
    "df.head()"
   ]
  },
  {
   "cell_type": "code",
   "execution_count": null,
   "id": "1889a382-1880-4690-bab6-5dca2d5be8b1",
   "metadata": {},
   "outputs": [],
   "source": [
    "df.columns"
   ]
  },
  {
   "cell_type": "code",
   "execution_count": null,
   "id": "04bcdbd2-5271-47a5-b9de-819ac361261f",
   "metadata": {},
   "outputs": [],
   "source": [
    "df = df[['date', 'month', 'year', 'area', 'average_price', 'houses_sold',\n",
    "       'no_of_crimes', 'code']]"
   ]
  },
  {
   "cell_type": "code",
   "execution_count": null,
   "id": "69d67c1e-b97c-4697-98c1-8c2a721f64c5",
   "metadata": {},
   "outputs": [],
   "source": [
    "df.head()"
   ]
  },
  {
   "cell_type": "markdown",
   "id": "badec8d5-ad3c-4e6b-85f0-076d251c60fa",
   "metadata": {},
   "source": [
    "# Remove the column month from data frame"
   ]
  },
  {
   "cell_type": "code",
   "execution_count": null,
   "id": "c62e96d3-83df-4215-8540-a800ec20dffd",
   "metadata": {},
   "outputs": [],
   "source": [
    "df.drop(['month'],axis=1,inplace= True)"
   ]
  },
  {
   "cell_type": "markdown",
   "id": "34b00d4f-9b8b-492f-9fa2-0aefc8311680",
   "metadata": {},
   "source": [
    "#  Show all the records where 'No. of Crimes' is 0. And, how many such records are there ?"
   ]
  },
  {
   "cell_type": "code",
   "execution_count": null,
   "id": "53394d5d-b561-4f28-bf31-8f8156a12792",
   "metadata": {},
   "outputs": [],
   "source": [
    "df[df.no_of_crimes == 0].head(10)\n",
    "len(df[df.no_of_crimes == 0])"
   ]
  },
  {
   "cell_type": "markdown",
   "id": "16421524-bcbc-4698-9991-d1a2bceb80b0",
   "metadata": {},
   "source": [
    "#  What is the maximum & minimum 'average_price' per year in england ?"
   ]
  },
  {
   "cell_type": "code",
   "execution_count": null,
   "id": "ded1fd12-e187-4032-a09a-a41c4a70bc5d",
   "metadata": {},
   "outputs": [],
   "source": [
    "word_to_check = 'england'\n",
    "is_in_column = df['area'].str.contains(word_to_check).any()\n",
    "\n",
    "if is_in_column:\n",
    "    print(f\"'{word_to_check}' is in the 'area' column.\")\n",
    "else:\n",
    "    print(f\"'{word_to_check}' is not in the 'area' column.\")"
   ]
  },
  {
   "cell_type": "code",
   "execution_count": null,
   "id": "1158258f-f262-4b50-b8c3-71512b19d46d",
   "metadata": {},
   "outputs": [],
   "source": [
    "df1 = df[df.area =='england']"
   ]
  },
  {
   "cell_type": "code",
   "execution_count": null,
   "id": "f7ae2e1a-45ac-4359-936f-ac2e7e74f441",
   "metadata": {},
   "outputs": [],
   "source": [
    "df1.groupby('year')['average_price'].min()\n",
    "df1.groupby('year')['average_price'].max()"
   ]
  },
  {
   "cell_type": "markdown",
   "id": "760d358a-774c-463a-8fdb-4e4b54f4cc45",
   "metadata": {},
   "source": [
    "# What is the max and min no of crimes per area"
   ]
  },
  {
   "cell_type": "code",
   "execution_count": null,
   "id": "cc9e3249-0d6f-4e60-8ac1-83689c2f45fa",
   "metadata": {},
   "outputs": [],
   "source": [
    "df.groupby('area')['no_of_crimes'].min()\n",
    "df.groupby('area')['no_of_crimes'].max().sort_values(ascending=False)"
   ]
  },
  {
   "cell_type": "markdown",
   "id": "8f3e87b6-1b5e-480c-9fdb-f71572606d22",
   "metadata": {},
   "source": [
    "# Show the total count record of each area, where average price is less than 100000"
   ]
  },
  {
   "cell_type": "code",
   "execution_count": null,
   "id": "3a6fefd3-90ff-45bf-ab45-86ebe1268f41",
   "metadata": {},
   "outputs": [],
   "source": [
    "df[df['average_price']<100000].area.value_counts()"
   ]
  },
  {
   "cell_type": "code",
   "execution_count": null,
   "id": "86aa08f3-cce2-4f2a-99ca-c0e2f55628b5",
   "metadata": {},
   "outputs": [],
   "source": []
  }
 ],
 "metadata": {
  "kernelspec": {
   "display_name": "Python 3 (ipykernel)",
   "language": "python",
   "name": "python3"
  },
  "language_info": {
   "codemirror_mode": {
    "name": "ipython",
    "version": 3
   },
   "file_extension": ".py",
   "mimetype": "text/x-python",
   "name": "python",
   "nbconvert_exporter": "python",
   "pygments_lexer": "ipython3",
   "version": "3.11.4"
  }
 },
 "nbformat": 4,
 "nbformat_minor": 5
}

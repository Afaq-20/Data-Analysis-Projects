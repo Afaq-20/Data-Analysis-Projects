{
 "cells": [
  {
   "cell_type": "code",
   "execution_count": 1,
   "id": "cfc96f21-ba7a-48f2-adf0-632ec79c6f2c",
   "metadata": {},
   "outputs": [],
   "source": [
    "import numpy as np"
   ]
  },
  {
   "cell_type": "code",
   "execution_count": 2,
   "id": "15a3503e-ca40-4041-a8cb-611a80dab1e7",
   "metadata": {},
   "outputs": [],
   "source": [
    "x = [1,5,3,7]"
   ]
  },
  {
   "cell_type": "code",
   "execution_count": 3,
   "id": "de1471a9-312d-41f9-8405-3e7b07dc83f2",
   "metadata": {},
   "outputs": [],
   "source": [
    "list = np.array(x,np.int32)"
   ]
  },
  {
   "cell_type": "code",
   "execution_count": 4,
   "id": "23283c1d-fb63-4e6e-8e78-9a2757570a38",
   "metadata": {},
   "outputs": [
    {
     "data": {
      "text/plain": [
       "array([1, 5, 3, 7])"
      ]
     },
     "execution_count": 4,
     "metadata": {},
     "output_type": "execute_result"
    }
   ],
   "source": [
    "list"
   ]
  },
  {
   "cell_type": "code",
   "execution_count": 5,
   "id": "178ac028-aa2d-45cc-974d-63f5bb4b9053",
   "metadata": {},
   "outputs": [
    {
     "name": "stdout",
     "output_type": "stream",
     "text": [
      "[1 5 3 7]\n"
     ]
    }
   ],
   "source": [
    "print(list)"
   ]
  },
  {
   "cell_type": "code",
   "execution_count": 6,
   "id": "34880192-2412-4e2b-83c1-bf3e2bf5d009",
   "metadata": {},
   "outputs": [],
   "source": [
    "xy = [[2,4,23,5],[4,3,7,8]]"
   ]
  },
  {
   "cell_type": "code",
   "execution_count": 7,
   "id": "5b45ffdb-4cd4-41f9-b0d0-959f55d7c4eb",
   "metadata": {},
   "outputs": [],
   "source": [
    "list2D = np.array(xy,np.int64)"
   ]
  },
  {
   "cell_type": "code",
   "execution_count": 8,
   "id": "c7041b44-911f-4b2b-8528-224e2de1459e",
   "metadata": {},
   "outputs": [
    {
     "data": {
      "text/plain": [
       "array([[ 2,  4, 23,  5],\n",
       "       [ 4,  3,  7,  8]], dtype=int64)"
      ]
     },
     "execution_count": 8,
     "metadata": {},
     "output_type": "execute_result"
    }
   ],
   "source": [
    "list2D"
   ]
  },
  {
   "cell_type": "markdown",
   "id": "0eb8528d-6965-40da-a0a6-1e11bd9c1898",
   "metadata": {},
   "source": [
    "# Creating the special arrays"
   ]
  },
  {
   "cell_type": "code",
   "execution_count": 9,
   "id": "2f7dcffb-5d62-4de8-afb8-335620d4a6ea",
   "metadata": {},
   "outputs": [],
   "source": [
    "zeros = np.zeros((3,5))"
   ]
  },
  {
   "cell_type": "code",
   "execution_count": 10,
   "id": "4d1729e3-ef5e-470b-b49e-0304714e8d6b",
   "metadata": {},
   "outputs": [
    {
     "data": {
      "text/plain": [
       "array([[0., 0., 0., 0., 0.],\n",
       "       [0., 0., 0., 0., 0.],\n",
       "       [0., 0., 0., 0., 0.]])"
      ]
     },
     "execution_count": 10,
     "metadata": {},
     "output_type": "execute_result"
    }
   ],
   "source": [
    "zeros\n"
   ]
  },
  {
   "cell_type": "markdown",
   "id": "5e5e5d0c-aecd-4262-815f-71edc43bba53",
   "metadata": {},
   "source": [
    "ones = np.ones((3,5))"
   ]
  },
  {
   "cell_type": "code",
   "execution_count": 11,
   "id": "61380259-6950-4612-a673-683127f6a5e7",
   "metadata": {},
   "outputs": [],
   "source": [
    "orange = np.arange(12)"
   ]
  },
  {
   "cell_type": "code",
   "execution_count": 12,
   "id": "c46ae42d-06d1-45ff-8c89-96e2f903cb8a",
   "metadata": {},
   "outputs": [
    {
     "data": {
      "text/plain": [
       "array([ 0,  1,  2,  3,  4,  5,  6,  7,  8,  9, 10, 11])"
      ]
     },
     "execution_count": 12,
     "metadata": {},
     "output_type": "execute_result"
    }
   ],
   "source": [
    "orange"
   ]
  },
  {
   "cell_type": "code",
   "execution_count": 13,
   "id": "8426730c-ede0-4b4d-a603-abf401742cb7",
   "metadata": {},
   "outputs": [],
   "source": [
    "linespace = np.linspace(0,10,5)"
   ]
  },
  {
   "cell_type": "code",
   "execution_count": 14,
   "id": "1c71e151-00cb-40a6-8c33-2c722f004614",
   "metadata": {},
   "outputs": [
    {
     "data": {
      "text/plain": [
       "array([ 0. ,  2.5,  5. ,  7.5, 10. ])"
      ]
     },
     "execution_count": 14,
     "metadata": {},
     "output_type": "execute_result"
    }
   ],
   "source": [
    "linespace"
   ]
  },
  {
   "cell_type": "markdown",
   "id": "fa1aeec0-24e8-4300-b725-6f01ecdd7db3",
   "metadata": {},
   "source": [
    "# Accessing array element"
   ]
  },
  {
   "cell_type": "code",
   "execution_count": 15,
   "id": "c788f1c5-e23e-4f30-9151-ecb5116d5b5b",
   "metadata": {},
   "outputs": [],
   "source": [
    "arr = np.array([1,4,3,5,7,4])"
   ]
  },
  {
   "cell_type": "code",
   "execution_count": 16,
   "id": "d80181a2-fc8b-478d-9632-bb5b4519cf48",
   "metadata": {},
   "outputs": [
    {
     "data": {
      "text/plain": [
       "7"
      ]
     },
     "execution_count": 16,
     "metadata": {},
     "output_type": "execute_result"
    }
   ],
   "source": [
    "arr[4]"
   ]
  },
  {
   "cell_type": "code",
   "execution_count": 17,
   "id": "25f29ec8-1a3e-403d-925c-43c0a1dc79cd",
   "metadata": {},
   "outputs": [
    {
     "data": {
      "text/plain": [
       "array([4, 3, 5])"
      ]
     },
     "execution_count": 17,
     "metadata": {},
     "output_type": "execute_result"
    }
   ],
   "source": [
    "arr[1:4]"
   ]
  },
  {
   "cell_type": "code",
   "execution_count": 18,
   "id": "d75972d7-5db7-4608-9cb0-c23dd48e9385",
   "metadata": {},
   "outputs": [
    {
     "data": {
      "text/plain": [
       "array([1, 3, 7])"
      ]
     },
     "execution_count": 18,
     "metadata": {},
     "output_type": "execute_result"
    }
   ],
   "source": [
    "arr[::2]"
   ]
  },
  {
   "cell_type": "markdown",
   "id": "75a0d17c-495c-409c-8cb2-30e5d9aac698",
   "metadata": {},
   "source": [
    "# Array Attributes"
   ]
  },
  {
   "cell_type": "code",
   "execution_count": 19,
   "id": "58062526-10d9-4754-8110-836488f9645a",
   "metadata": {},
   "outputs": [],
   "source": [
    "list3 = [[3,56,3],[9,6,3],[4,34,7]]"
   ]
  },
  {
   "cell_type": "code",
   "execution_count": 20,
   "id": "9fe02eb2-6350-41db-a799-269a29866463",
   "metadata": {},
   "outputs": [],
   "source": [
    "array = np.array(list3)"
   ]
  },
  {
   "cell_type": "code",
   "execution_count": 21,
   "id": "79cb2747-807b-4d33-bbd8-0711e04121c3",
   "metadata": {},
   "outputs": [
    {
     "data": {
      "text/plain": [
       "(3, 3)"
      ]
     },
     "execution_count": 21,
     "metadata": {},
     "output_type": "execute_result"
    }
   ],
   "source": [
    "array.shape"
   ]
  },
  {
   "cell_type": "code",
   "execution_count": 22,
   "id": "2acd7f07-4bea-4d1b-b80c-565317ce28fa",
   "metadata": {},
   "outputs": [
    {
     "data": {
      "text/plain": [
       "dtype('int32')"
      ]
     },
     "execution_count": 22,
     "metadata": {},
     "output_type": "execute_result"
    }
   ],
   "source": [
    "array.dtype"
   ]
  },
  {
   "cell_type": "code",
   "execution_count": 23,
   "id": "007ef9ce-d24a-4c3d-a23d-c081197276ae",
   "metadata": {},
   "outputs": [
    {
     "data": {
      "text/plain": [
       "2"
      ]
     },
     "execution_count": 23,
     "metadata": {},
     "output_type": "execute_result"
    }
   ],
   "source": [
    "array.ndim  #tells the dimensios of array"
   ]
  },
  {
   "cell_type": "code",
   "execution_count": 24,
   "id": "6a154862-78b8-4ac1-9b45-db4f7a79e5b7",
   "metadata": {},
   "outputs": [
    {
     "data": {
      "text/plain": [
       "9"
      ]
     },
     "execution_count": 24,
     "metadata": {},
     "output_type": "execute_result"
    }
   ],
   "source": [
    "array.size"
   ]
  },
  {
   "cell_type": "markdown",
   "id": "cff4f8ae-635b-4936-bf3a-417c49dde2dc",
   "metadata": {},
   "source": [
    "# Basic Operations on array"
   ]
  },
  {
   "cell_type": "code",
   "execution_count": 25,
   "id": "6591e436-b46d-40e0-b4f0-3ac8c2db6edf",
   "metadata": {},
   "outputs": [],
   "source": [
    "arr1 = np.array([4,2,6])"
   ]
  },
  {
   "cell_type": "code",
   "execution_count": 26,
   "id": "e62d39df-fd70-472d-9754-178d0d8c7366",
   "metadata": {},
   "outputs": [],
   "source": [
    "arr2 = np.array([4,6,3])"
   ]
  },
  {
   "cell_type": "code",
   "execution_count": 27,
   "id": "92b266dc-56d1-454f-b30d-2f6c9de3e322",
   "metadata": {},
   "outputs": [
    {
     "data": {
      "text/plain": [
       "array([8, 8, 9])"
      ]
     },
     "execution_count": 27,
     "metadata": {},
     "output_type": "execute_result"
    }
   ],
   "source": [
    "arr1 + arr2"
   ]
  },
  {
   "cell_type": "code",
   "execution_count": 28,
   "id": "0c30290a-54f9-4e5a-84e0-fa3f58b38b83",
   "metadata": {},
   "outputs": [
    {
     "data": {
      "text/plain": [
       "array([ 0, -4,  3])"
      ]
     },
     "execution_count": 28,
     "metadata": {},
     "output_type": "execute_result"
    }
   ],
   "source": [
    "arr1 -arr2"
   ]
  },
  {
   "cell_type": "code",
   "execution_count": 29,
   "id": "a18b94b0-0a93-49cb-be83-7ce851f51629",
   "metadata": {},
   "outputs": [
    {
     "data": {
      "text/plain": [
       "array([16, 12, 18])"
      ]
     },
     "execution_count": 29,
     "metadata": {},
     "output_type": "execute_result"
    }
   ],
   "source": [
    "arr1 * arr2"
   ]
  },
  {
   "cell_type": "code",
   "execution_count": 30,
   "id": "d1525327-04e1-453f-84d7-d2a1a64c97ef",
   "metadata": {},
   "outputs": [
    {
     "data": {
      "text/plain": [
       "array([1.        , 0.33333333, 2.        ])"
      ]
     },
     "execution_count": 30,
     "metadata": {},
     "output_type": "execute_result"
    }
   ],
   "source": [
    "arr1 /arr2"
   ]
  },
  {
   "cell_type": "markdown",
   "id": "29e5fe77-434e-4ec7-814e-596425df6878",
   "metadata": {},
   "source": [
    "# Arethmetic Operations"
   ]
  },
  {
   "cell_type": "code",
   "execution_count": 31,
   "id": "1928f489-d61e-437f-a1d6-42b48aac2316",
   "metadata": {},
   "outputs": [
    {
     "data": {
      "text/plain": [
       "array([4, 2, 6])"
      ]
     },
     "execution_count": 31,
     "metadata": {},
     "output_type": "execute_result"
    }
   ],
   "source": [
    "arr1"
   ]
  },
  {
   "cell_type": "code",
   "execution_count": 32,
   "id": "d11f1e30-7164-452d-9f3d-0ff52b122e68",
   "metadata": {},
   "outputs": [
    {
     "data": {
      "text/plain": [
       "array([ 9,  7, 11])"
      ]
     },
     "execution_count": 32,
     "metadata": {},
     "output_type": "execute_result"
    }
   ],
   "source": [
    "arr1 + 5"
   ]
  },
  {
   "cell_type": "code",
   "execution_count": 33,
   "id": "70b879fd-599e-417d-b0d5-e05538a0c68a",
   "metadata": {},
   "outputs": [
    {
     "data": {
      "text/plain": [
       "array([ 8,  4, 12])"
      ]
     },
     "execution_count": 33,
     "metadata": {},
     "output_type": "execute_result"
    }
   ],
   "source": [
    "arr1*2"
   ]
  },
  {
   "cell_type": "markdown",
   "id": "efc0fd2b-f0e3-493f-98e5-21a979e42559",
   "metadata": {},
   "source": [
    "# Accessing and modifing Array Element"
   ]
  },
  {
   "cell_type": "code",
   "execution_count": 34,
   "id": "6fe80b19-3f64-42df-ad5f-7fc0f45ce4f7",
   "metadata": {},
   "outputs": [
    {
     "data": {
      "text/plain": [
       "array([4, 2, 6])"
      ]
     },
     "execution_count": 34,
     "metadata": {},
     "output_type": "execute_result"
    }
   ],
   "source": [
    "arr1"
   ]
  },
  {
   "cell_type": "code",
   "execution_count": 35,
   "id": "0318b461-575e-43d3-89ef-d489673cb9d3",
   "metadata": {},
   "outputs": [
    {
     "data": {
      "text/plain": [
       "6"
      ]
     },
     "execution_count": 35,
     "metadata": {},
     "output_type": "execute_result"
    }
   ],
   "source": [
    "arr1[2]"
   ]
  },
  {
   "cell_type": "code",
   "execution_count": 36,
   "id": "728d70be-5d3d-422f-b90f-7156253652e3",
   "metadata": {},
   "outputs": [],
   "source": [
    "arr1[2] =10"
   ]
  },
  {
   "cell_type": "code",
   "execution_count": 37,
   "id": "0540d903-c6f1-4473-bfd7-b8d20c7d0faa",
   "metadata": {},
   "outputs": [
    {
     "data": {
      "text/plain": [
       "array([ 4,  2, 10])"
      ]
     },
     "execution_count": 37,
     "metadata": {},
     "output_type": "execute_result"
    }
   ],
   "source": [
    "arr1"
   ]
  },
  {
   "cell_type": "markdown",
   "id": "edf9b90e-2bae-48d5-b55e-3ed4c7a3a74c",
   "metadata": {},
   "source": [
    "# Slicing array to extract subset"
   ]
  },
  {
   "cell_type": "code",
   "execution_count": 38,
   "id": "3488070d-a0ea-40f1-8325-cb246e72ff64",
   "metadata": {},
   "outputs": [],
   "source": [
    "ar = np.array([2,5,3,7,9,6,44,55])"
   ]
  },
  {
   "cell_type": "code",
   "execution_count": 39,
   "id": "e9f1411e-c352-4a35-9ce6-d4366b6a2e0f",
   "metadata": {},
   "outputs": [
    {
     "data": {
      "text/plain": [
       "array([2, 5, 3, 7, 9])"
      ]
     },
     "execution_count": 39,
     "metadata": {},
     "output_type": "execute_result"
    }
   ],
   "source": [
    "ar[:5]"
   ]
  },
  {
   "cell_type": "code",
   "execution_count": 40,
   "id": "110f8f2f-203c-4913-aa11-363c49290be7",
   "metadata": {},
   "outputs": [
    {
     "data": {
      "text/plain": [
       "array([3, 7, 9, 6])"
      ]
     },
     "execution_count": 40,
     "metadata": {},
     "output_type": "execute_result"
    }
   ],
   "source": [
    "ar[2:6]"
   ]
  },
  {
   "cell_type": "code",
   "execution_count": 41,
   "id": "120110f7-3eb1-449e-8bb4-572943d19de0",
   "metadata": {},
   "outputs": [
    {
     "data": {
      "text/plain": [
       "array([ 7,  9,  6, 44, 55])"
      ]
     },
     "execution_count": 41,
     "metadata": {},
     "output_type": "execute_result"
    }
   ],
   "source": [
    "ar[3:]"
   ]
  },
  {
   "cell_type": "code",
   "execution_count": 42,
   "id": "09ea0a5e-cd7f-437a-bb02-501dbff0ac34",
   "metadata": {},
   "outputs": [
    {
     "data": {
      "text/plain": [
       "array([5, 7, 6])"
      ]
     },
     "execution_count": 42,
     "metadata": {},
     "output_type": "execute_result"
    }
   ],
   "source": [
    "ar[1:6:2]"
   ]
  },
  {
   "cell_type": "code",
   "execution_count": 43,
   "id": "724b049a-43ef-4c44-9d99-e81bc240dd5a",
   "metadata": {},
   "outputs": [
    {
     "data": {
      "text/plain": [
       "array([55, 44,  6,  9,  7,  3,  5,  2])"
      ]
     },
     "execution_count": 43,
     "metadata": {},
     "output_type": "execute_result"
    }
   ],
   "source": [
    "ar[::-1]"
   ]
  },
  {
   "cell_type": "markdown",
   "id": "23b155db-59df-4fbf-9c74-70fc57ef1c20",
   "metadata": {},
   "source": [
    "# Array reshaping"
   ]
  },
  {
   "cell_type": "code",
   "execution_count": 44,
   "id": "2737c019-1af7-46c5-b9d2-7d8abc8154f1",
   "metadata": {},
   "outputs": [
    {
     "data": {
      "text/plain": [
       "array([ 2,  5,  3,  7,  9,  6, 44, 55])"
      ]
     },
     "execution_count": 44,
     "metadata": {},
     "output_type": "execute_result"
    }
   ],
   "source": [
    "ar"
   ]
  },
  {
   "cell_type": "code",
   "execution_count": 45,
   "id": "47724a13-8a49-40d1-9d16-1081f3707716",
   "metadata": {},
   "outputs": [
    {
     "data": {
      "text/plain": [
       "array([[ 2,  5,  3,  7],\n",
       "       [ 9,  6, 44, 55]])"
      ]
     },
     "execution_count": 45,
     "metadata": {},
     "output_type": "execute_result"
    }
   ],
   "source": [
    "ar.reshape(2,4)"
   ]
  },
  {
   "cell_type": "code",
   "execution_count": 46,
   "id": "1d5398ae-945d-499f-9f59-2abc7d5f460a",
   "metadata": {},
   "outputs": [
    {
     "data": {
      "text/plain": [
       "array([[ 2,  5],\n",
       "       [ 3,  7],\n",
       "       [ 9,  6],\n",
       "       [44, 55]])"
      ]
     },
     "execution_count": 46,
     "metadata": {},
     "output_type": "execute_result"
    }
   ],
   "source": [
    "ar.reshape(4,2)"
   ]
  },
  {
   "cell_type": "code",
   "execution_count": 47,
   "id": "77ca83ac-512f-49de-9442-49e78a8a937a",
   "metadata": {},
   "outputs": [
    {
     "data": {
      "text/plain": [
       "array([[[ 2,  5,  3,  7]],\n",
       "\n",
       "       [[ 9,  6, 44, 55]]])"
      ]
     },
     "execution_count": 47,
     "metadata": {},
     "output_type": "execute_result"
    }
   ],
   "source": [
    "ar.reshape(2,1,4)"
   ]
  },
  {
   "cell_type": "code",
   "execution_count": 48,
   "id": "02ff702e-685e-4cd7-b2f9-af10d8c80761",
   "metadata": {},
   "outputs": [
    {
     "data": {
      "text/plain": [
       "array([ 2,  5,  3,  7,  9,  6, 44, 55])"
      ]
     },
     "execution_count": 48,
     "metadata": {},
     "output_type": "execute_result"
    }
   ],
   "source": [
    "ar.reshape(8)"
   ]
  },
  {
   "cell_type": "code",
   "execution_count": 49,
   "id": "18ff14ad-2cbb-43b6-8c3a-545ea0e01d41",
   "metadata": {},
   "outputs": [
    {
     "data": {
      "text/plain": [
       "array([[ 2,  5],\n",
       "       [ 3,  7],\n",
       "       [ 9,  6],\n",
       "       [44, 55]])"
      ]
     },
     "execution_count": 49,
     "metadata": {},
     "output_type": "execute_result"
    }
   ],
   "source": [
    "ar.reshape(4,-1)"
   ]
  },
  {
   "cell_type": "markdown",
   "id": "19bbdf10-bbd5-4e4e-8d03-811e077ce9ed",
   "metadata": {},
   "source": [
    "# Array Resizing"
   ]
  },
  {
   "cell_type": "code",
   "execution_count": 50,
   "id": "e079436f-40de-4fba-91f6-0893fc6d5022",
   "metadata": {},
   "outputs": [
    {
     "data": {
      "text/plain": [
       "array([ 2,  5,  3,  7,  9,  6, 44, 55])"
      ]
     },
     "execution_count": 50,
     "metadata": {},
     "output_type": "execute_result"
    }
   ],
   "source": [
    "ar"
   ]
  },
  {
   "cell_type": "code",
   "execution_count": 51,
   "id": "cc0c6849-cea3-44d3-84b0-f1e5e90af67a",
   "metadata": {},
   "outputs": [
    {
     "data": {
      "text/plain": [
       "array([[ 2,  5,  3,  7],\n",
       "       [ 9,  6, 44, 55],\n",
       "       [ 2,  5,  3,  7]])"
      ]
     },
     "execution_count": 51,
     "metadata": {},
     "output_type": "execute_result"
    }
   ],
   "source": [
    "np.resize(ar,(3,4))"
   ]
  },
  {
   "cell_type": "code",
   "execution_count": 52,
   "id": "87c6be04-e060-432b-86f4-daa5aa37e620",
   "metadata": {},
   "outputs": [
    {
     "data": {
      "text/plain": [
       "array([[2, 5, 3],\n",
       "       [7, 9, 6]])"
      ]
     },
     "execution_count": 52,
     "metadata": {},
     "output_type": "execute_result"
    }
   ],
   "source": [
    "np.resize(ar,(2,3))"
   ]
  },
  {
   "cell_type": "markdown",
   "id": "b81dddf9-f241-44ea-9f2e-00b95dc264b5",
   "metadata": {},
   "source": [
    "# Array stacking"
   ]
  },
  {
   "cell_type": "code",
   "execution_count": 53,
   "id": "5ca66c33-0e80-4e62-8870-69327de82087",
   "metadata": {},
   "outputs": [],
   "source": [
    "# vstack: stacks arrays vertically\n",
    "# hstack: stack arrays horizontally\n",
    "# concatenate: concatenate arrays along the specified axis"
   ]
  },
  {
   "cell_type": "code",
   "execution_count": 54,
   "id": "7776a71e-31f5-48e7-937e-bed35424fc28",
   "metadata": {},
   "outputs": [],
   "source": [
    "a1 = np.array([4,2,6])\n",
    "a2 = np.array([3,6,9])"
   ]
  },
  {
   "cell_type": "code",
   "execution_count": 55,
   "id": "a8c58cc4-41a1-4f42-8ba6-e8a93b1a19b3",
   "metadata": {},
   "outputs": [
    {
     "data": {
      "text/plain": [
       "array([[4, 2, 6],\n",
       "       [3, 6, 9]])"
      ]
     },
     "execution_count": 55,
     "metadata": {},
     "output_type": "execute_result"
    }
   ],
   "source": [
    "np.vstack((a1,a2))"
   ]
  },
  {
   "cell_type": "code",
   "execution_count": 56,
   "id": "06c68f79-0d93-45bd-a3b4-eaa0c3b788ab",
   "metadata": {},
   "outputs": [
    {
     "data": {
      "text/plain": [
       "array([4, 2, 6, 3, 6, 9])"
      ]
     },
     "execution_count": 56,
     "metadata": {},
     "output_type": "execute_result"
    }
   ],
   "source": [
    "np.hstack((a1,a2))"
   ]
  },
  {
   "cell_type": "code",
   "execution_count": 57,
   "id": "21425ce5-3ebd-46e8-9a3c-465b7edaf94a",
   "metadata": {},
   "outputs": [],
   "source": [
    "concate = np.concatenate((a1,a2),axis=0)\n"
   ]
  },
  {
   "cell_type": "code",
   "execution_count": 58,
   "id": "44808dc2-a0a2-4407-bcb3-b03a69438fa5",
   "metadata": {},
   "outputs": [
    {
     "data": {
      "text/plain": [
       "array([4, 2, 6, 3, 6, 9])"
      ]
     },
     "execution_count": 58,
     "metadata": {},
     "output_type": "execute_result"
    }
   ],
   "source": [
    "concate"
   ]
  },
  {
   "cell_type": "code",
   "execution_count": 59,
   "id": "9810083b-a9e8-4b60-ba4a-4469b75b7e3f",
   "metadata": {},
   "outputs": [
    {
     "data": {
      "text/plain": [
       "array([[4, 2, 6],\n",
       "       [3, 6, 9]])"
      ]
     },
     "execution_count": 59,
     "metadata": {},
     "output_type": "execute_result"
    }
   ],
   "source": [
    "concate.reshape(2,3)"
   ]
  },
  {
   "cell_type": "markdown",
   "id": "66689bef-63fa-439d-8b88-a1fcfbff035b",
   "metadata": {},
   "source": [
    "# Array Spliting"
   ]
  },
  {
   "cell_type": "code",
   "execution_count": 60,
   "id": "22308d5e-1025-4744-936d-a308c45a407c",
   "metadata": {},
   "outputs": [],
   "source": [
    "asr = np.array([1,2,3,4,5,6,7,8,9])"
   ]
  },
  {
   "cell_type": "code",
   "execution_count": 61,
   "id": "41cfb09f-44c0-4ebb-9205-118b9ee70a00",
   "metadata": {},
   "outputs": [
    {
     "data": {
      "text/plain": [
       "[array([1, 2, 3]), array([4, 5, 6]), array([7, 8, 9])]"
      ]
     },
     "execution_count": 61,
     "metadata": {},
     "output_type": "execute_result"
    }
   ],
   "source": [
    "np.split(asr,3)"
   ]
  },
  {
   "cell_type": "markdown",
   "id": "c40431bc-e821-4822-b99a-c7a22510a7eb",
   "metadata": {},
   "source": [
    "# Common Mathematic Operation"
   ]
  },
  {
   "cell_type": "code",
   "execution_count": 62,
   "id": "a14f650b-db0f-4e95-b0f2-698b475e2072",
   "metadata": {},
   "outputs": [
    {
     "data": {
      "text/plain": [
       "(array([4, 2, 6]), array([3, 6, 9]))"
      ]
     },
     "execution_count": 62,
     "metadata": {},
     "output_type": "execute_result"
    }
   ],
   "source": [
    "a1,a2"
   ]
  },
  {
   "cell_type": "code",
   "execution_count": 63,
   "id": "ee6f5414-c69e-4f61-814a-7c268f860a94",
   "metadata": {},
   "outputs": [
    {
     "data": {
      "text/plain": [
       "array([ 7,  8, 15])"
      ]
     },
     "execution_count": 63,
     "metadata": {},
     "output_type": "execute_result"
    }
   ],
   "source": [
    "np.add(a1,a2)"
   ]
  },
  {
   "cell_type": "code",
   "execution_count": 64,
   "id": "387efdce-943e-4315-90b7-d28f859a9c4c",
   "metadata": {},
   "outputs": [
    {
     "data": {
      "text/plain": [
       "array([ 1, -4, -3])"
      ]
     },
     "execution_count": 64,
     "metadata": {},
     "output_type": "execute_result"
    }
   ],
   "source": [
    "np.subtract(a1,a2)"
   ]
  },
  {
   "cell_type": "code",
   "execution_count": 65,
   "id": "837a05ae-db41-4d79-a667-d83c13b1adbb",
   "metadata": {},
   "outputs": [
    {
     "data": {
      "text/plain": [
       "array([12, 12, 54])"
      ]
     },
     "execution_count": 65,
     "metadata": {},
     "output_type": "execute_result"
    }
   ],
   "source": [
    "np.multiply(a1,a2)"
   ]
  },
  {
   "cell_type": "code",
   "execution_count": 66,
   "id": "eeb593ea-b70b-4863-b567-8c481eda36b5",
   "metadata": {},
   "outputs": [
    {
     "data": {
      "text/plain": [
       "array([1.33333333, 0.33333333, 0.66666667])"
      ]
     },
     "execution_count": 66,
     "metadata": {},
     "output_type": "execute_result"
    }
   ],
   "source": [
    "np.divide(a1,a2)"
   ]
  },
  {
   "cell_type": "code",
   "execution_count": 67,
   "id": "c9565f94-e088-4f24-9c61-6adf2de4a0d2",
   "metadata": {},
   "outputs": [
    {
     "data": {
      "text/plain": [
       "array([      64,       64, 10077696])"
      ]
     },
     "execution_count": 67,
     "metadata": {},
     "output_type": "execute_result"
    }
   ],
   "source": [
    "np.power(a1,a2)"
   ]
  },
  {
   "cell_type": "markdown",
   "id": "39afe8e7-8a21-4278-b5b5-795a45284aca",
   "metadata": {},
   "source": [
    "# Trignometry Functions"
   ]
  },
  {
   "cell_type": "code",
   "execution_count": 68,
   "id": "f0f8cdb0-6a1a-4ada-af6f-998c90650135",
   "metadata": {},
   "outputs": [],
   "source": [
    "ang = np.array([0, np.pi/6, np.pi/4, np.pi/3, np.pi/2])"
   ]
  },
  {
   "cell_type": "code",
   "execution_count": 69,
   "id": "7c37ba85-12f0-4268-82a5-43264efe6aaa",
   "metadata": {},
   "outputs": [],
   "source": [
    "sin = np.sin(ang)"
   ]
  },
  {
   "cell_type": "code",
   "execution_count": 70,
   "id": "abf52ee8-03d6-46f6-8743-81cc73382602",
   "metadata": {},
   "outputs": [
    {
     "data": {
      "text/plain": [
       "array([0.        , 0.5       , 0.70710678, 0.8660254 , 1.        ])"
      ]
     },
     "execution_count": 70,
     "metadata": {},
     "output_type": "execute_result"
    }
   ],
   "source": [
    "sin"
   ]
  },
  {
   "cell_type": "code",
   "execution_count": 71,
   "id": "21eee9d5-298a-456d-9d4a-86ec0feb9322",
   "metadata": {},
   "outputs": [],
   "source": [
    "cos = np.cos(ang)"
   ]
  },
  {
   "cell_type": "code",
   "execution_count": 72,
   "id": "e9d9536f-2622-4809-971f-7a9d75f01a95",
   "metadata": {},
   "outputs": [
    {
     "data": {
      "text/plain": [
       "array([1.00000000e+00, 8.66025404e-01, 7.07106781e-01, 5.00000000e-01,\n",
       "       6.12323400e-17])"
      ]
     },
     "execution_count": 72,
     "metadata": {},
     "output_type": "execute_result"
    }
   ],
   "source": [
    "cos"
   ]
  },
  {
   "cell_type": "code",
   "execution_count": 73,
   "id": "e035373b-1df3-4191-8c5d-57d37341b6a9",
   "metadata": {},
   "outputs": [],
   "source": [
    "tan = np.tan(ang)"
   ]
  },
  {
   "cell_type": "code",
   "execution_count": 74,
   "id": "12353e88-a857-4d09-a1f4-0f8b75985730",
   "metadata": {},
   "outputs": [
    {
     "data": {
      "text/plain": [
       "array([0.00000000e+00, 5.77350269e-01, 1.00000000e+00, 1.73205081e+00,\n",
       "       1.63312394e+16])"
      ]
     },
     "execution_count": 74,
     "metadata": {},
     "output_type": "execute_result"
    }
   ],
   "source": [
    "tan"
   ]
  },
  {
   "cell_type": "code",
   "execution_count": 75,
   "id": "f2a0812f-b4d9-4b3a-9ab4-6d4d4386fb9a",
   "metadata": {},
   "outputs": [
    {
     "data": {
      "text/plain": [
       "array([0.        , 0.52359878, 0.78539816, 1.04719755, 1.57079633])"
      ]
     },
     "execution_count": 75,
     "metadata": {},
     "output_type": "execute_result"
    }
   ],
   "source": [
    "np.arcsin(sin)"
   ]
  },
  {
   "cell_type": "code",
   "execution_count": 76,
   "id": "ecda0d8e-c035-49c7-a055-1caf07a76fac",
   "metadata": {},
   "outputs": [
    {
     "data": {
      "text/plain": [
       "array([0.        , 0.52359878, 0.78539816, 1.04719755, 1.57079633])"
      ]
     },
     "execution_count": 76,
     "metadata": {},
     "output_type": "execute_result"
    }
   ],
   "source": [
    "np.arccos(cos)"
   ]
  },
  {
   "cell_type": "code",
   "execution_count": 77,
   "id": "4bdfacca-a3e9-4025-94e7-f8cf19c3e6ff",
   "metadata": {},
   "outputs": [
    {
     "data": {
      "text/plain": [
       "array([0.        , 0.52359878, 0.78539816, 1.04719755, 1.57079633])"
      ]
     },
     "execution_count": 77,
     "metadata": {},
     "output_type": "execute_result"
    }
   ],
   "source": [
    "np.arctan(tan)"
   ]
  },
  {
   "cell_type": "markdown",
   "id": "38620f54-9771-4127-9027-45540119dfe9",
   "metadata": {},
   "source": [
    " # Exponential and Logrithmic Function"
   ]
  },
  {
   "cell_type": "code",
   "execution_count": 78,
   "id": "14a30f6e-a808-4009-a793-faf9454625e4",
   "metadata": {},
   "outputs": [],
   "source": [
    "a3 = np.array([3,7,3,56,9,4,1,6])"
   ]
  },
  {
   "cell_type": "code",
   "execution_count": 79,
   "id": "4598cda8-54a8-4915-a70c-1fb3afdbb4aa",
   "metadata": {},
   "outputs": [
    {
     "data": {
      "text/plain": [
       "array([2.00855369e+01, 1.09663316e+03, 2.00855369e+01, 2.09165950e+24,\n",
       "       8.10308393e+03, 5.45981500e+01, 2.71828183e+00, 4.03428793e+02])"
      ]
     },
     "execution_count": 79,
     "metadata": {},
     "output_type": "execute_result"
    }
   ],
   "source": [
    "np.exp(a3)"
   ]
  },
  {
   "cell_type": "code",
   "execution_count": 80,
   "id": "23f0ecf0-e927-475a-baa9-0338015d056c",
   "metadata": {},
   "outputs": [
    {
     "data": {
      "text/plain": [
       "array([1.09861229, 1.94591015, 1.09861229, 4.02535169, 2.19722458,\n",
       "       1.38629436, 0.        , 1.79175947])"
      ]
     },
     "execution_count": 80,
     "metadata": {},
     "output_type": "execute_result"
    }
   ],
   "source": [
    "np.log(a3)"
   ]
  },
  {
   "cell_type": "code",
   "execution_count": 81,
   "id": "8dee068d-2ba4-4467-bab9-62da3d08fce9",
   "metadata": {},
   "outputs": [
    {
     "data": {
      "text/plain": [
       "array([0.47712125, 0.84509804, 0.47712125, 1.74818803, 0.95424251,\n",
       "       0.60205999, 0.        , 0.77815125])"
      ]
     },
     "execution_count": 81,
     "metadata": {},
     "output_type": "execute_result"
    }
   ],
   "source": [
    "np.log10(a3)"
   ]
  },
  {
   "cell_type": "markdown",
   "id": "5252a9b8-140c-4fd8-8d2f-f68f94587d84",
   "metadata": {},
   "source": [
    "# Rounding and Absolute values"
   ]
  },
  {
   "cell_type": "code",
   "execution_count": 82,
   "id": "04e6bfe8-ce86-4aeb-a7a4-c34a120a6054",
   "metadata": {},
   "outputs": [],
   "source": [
    "a4 = np.array([3.25,2.67,-6.89,4.55,7])"
   ]
  },
  {
   "cell_type": "code",
   "execution_count": 83,
   "id": "f2f061d2-9faf-4775-ae5d-ad354cd1ce6d",
   "metadata": {},
   "outputs": [
    {
     "data": {
      "text/plain": [
       "array([ 3.,  3., -7.,  5.,  7.])"
      ]
     },
     "execution_count": 83,
     "metadata": {},
     "output_type": "execute_result"
    }
   ],
   "source": [
    "np.round(a4)"
   ]
  },
  {
   "cell_type": "code",
   "execution_count": 84,
   "id": "a5ee892f-7a23-45ec-85c4-34951ba38a92",
   "metadata": {},
   "outputs": [
    {
     "data": {
      "text/plain": [
       "array([ 3.,  2., -7.,  4.,  7.])"
      ]
     },
     "execution_count": 84,
     "metadata": {},
     "output_type": "execute_result"
    }
   ],
   "source": [
    "np.floor(a4)"
   ]
  },
  {
   "cell_type": "code",
   "execution_count": 85,
   "id": "83608ae0-19f5-489e-aa6e-0938e30c81f9",
   "metadata": {},
   "outputs": [
    {
     "data": {
      "text/plain": [
       "array([ 4.,  3., -6.,  5.,  7.])"
      ]
     },
     "execution_count": 85,
     "metadata": {},
     "output_type": "execute_result"
    }
   ],
   "source": [
    "np.ceil(a4)"
   ]
  },
  {
   "cell_type": "code",
   "execution_count": 86,
   "id": "1dee4a59-5116-4a5b-9ab4-1b230a8a8a3e",
   "metadata": {},
   "outputs": [
    {
     "data": {
      "text/plain": [
       "array([3.25, 2.67, 6.89, 4.55, 7.  ])"
      ]
     },
     "execution_count": 86,
     "metadata": {},
     "output_type": "execute_result"
    }
   ],
   "source": [
    "np.abs(a4)"
   ]
  },
  {
   "cell_type": "markdown",
   "id": "cd11e1f2-370c-4a87-abe7-6d066de46c52",
   "metadata": {},
   "source": [
    "# Statistical Function"
   ]
  },
  {
   "cell_type": "code",
   "execution_count": 87,
   "id": "a416c232-b8c4-4a13-9679-59e1ff9c2834",
   "metadata": {},
   "outputs": [
    {
     "data": {
      "text/plain": [
       "array([ 3,  7,  3, 56,  9,  4,  1,  6])"
      ]
     },
     "execution_count": 87,
     "metadata": {},
     "output_type": "execute_result"
    }
   ],
   "source": [
    "a3"
   ]
  },
  {
   "cell_type": "code",
   "execution_count": 88,
   "id": "be0b0aac-6694-48bc-bd25-e63d9b480281",
   "metadata": {},
   "outputs": [
    {
     "data": {
      "text/plain": [
       "11.125"
      ]
     },
     "execution_count": 88,
     "metadata": {},
     "output_type": "execute_result"
    }
   ],
   "source": [
    "np.mean(a3)"
   ]
  },
  {
   "cell_type": "code",
   "execution_count": 89,
   "id": "8bee2641-3b36-433c-889e-49ba7811c5b8",
   "metadata": {},
   "outputs": [
    {
     "data": {
      "text/plain": [
       "89"
      ]
     },
     "execution_count": 89,
     "metadata": {},
     "output_type": "execute_result"
    }
   ],
   "source": [
    "np.sum(a3)"
   ]
  },
  {
   "cell_type": "code",
   "execution_count": 90,
   "id": "d379c795-d6fa-410c-975b-2eafcc5a1d88",
   "metadata": {},
   "outputs": [
    {
     "data": {
      "text/plain": [
       "1"
      ]
     },
     "execution_count": 90,
     "metadata": {},
     "output_type": "execute_result"
    }
   ],
   "source": [
    "np.min(a3)"
   ]
  },
  {
   "cell_type": "code",
   "execution_count": 91,
   "id": "4e1f8ce8-df80-42b5-89e1-ba334afcc4fe",
   "metadata": {},
   "outputs": [
    {
     "data": {
      "text/plain": [
       "56"
      ]
     },
     "execution_count": 91,
     "metadata": {},
     "output_type": "execute_result"
    }
   ],
   "source": [
    "np.max(a3)"
   ]
  },
  {
   "cell_type": "code",
   "execution_count": 92,
   "id": "f1cb9c06-539e-4456-a8b6-d6b749578915",
   "metadata": {},
   "outputs": [
    {
     "data": {
      "text/plain": [
       "17.1277370075559"
      ]
     },
     "execution_count": 92,
     "metadata": {},
     "output_type": "execute_result"
    }
   ],
   "source": [
    "np.std(a3)"
   ]
  },
  {
   "cell_type": "markdown",
   "id": "c43a3478-c8c3-4ad2-8da4-866196d1c8be",
   "metadata": {},
   "source": [
    "# Operations on array with different shapes and sizes"
   ]
  },
  {
   "cell_type": "code",
   "execution_count": 93,
   "id": "56ee6a2c-6f42-481b-bb26-5f84f613070e",
   "metadata": {},
   "outputs": [],
   "source": [
    "ao = np.array([4,5,6])\n",
    "ap = np.array([[3],[6],[8]])"
   ]
  },
  {
   "cell_type": "code",
   "execution_count": 94,
   "id": "3cde71a6-a534-4aa0-a687-eab0379d623b",
   "metadata": {},
   "outputs": [
    {
     "data": {
      "text/plain": [
       "array([[ 7,  8,  9],\n",
       "       [10, 11, 12],\n",
       "       [12, 13, 14]])"
      ]
     },
     "execution_count": 94,
     "metadata": {},
     "output_type": "execute_result"
    }
   ],
   "source": [
    "ao+ap"
   ]
  },
  {
   "cell_type": "markdown",
   "id": "083815f9-65fb-4cf6-9545-ae1f96f354dc",
   "metadata": {},
   "source": [
    "# Image Processing"
   ]
  },
  {
   "cell_type": "code",
   "execution_count": 95,
   "id": "0edcf1ce-a2f7-4e2f-8009-2908bc5e7862",
   "metadata": {},
   "outputs": [],
   "source": [
    "import matplotlib.pyplot as plt"
   ]
  },
  {
   "cell_type": "code",
   "execution_count": 96,
   "id": "e03f2475-6f19-4366-b681-4580af6e7301",
   "metadata": {},
   "outputs": [],
   "source": [
    "from skimage import io"
   ]
  },
  {
   "cell_type": "code",
   "execution_count": 97,
   "id": "ced7bbb9-6a04-4da0-96c2-19cc3e5814df",
   "metadata": {},
   "outputs": [],
   "source": [
    "#image = io.imread(\"C:/User/afaqx/Downloads/card\")"
   ]
  },
  {
   "cell_type": "markdown",
   "id": "6b8e97e4-36f9-4b61-b4ca-4cc27d06cb47",
   "metadata": {},
   "source": [
    "# data normalization"
   ]
  },
  {
   "cell_type": "code",
   "execution_count": 98,
   "id": "06b468db-d5ee-4149-ae4b-a0c6f4dfc56d",
   "metadata": {},
   "outputs": [],
   "source": [
    "data = np.random.rand(100,3)*10+5"
   ]
  },
  {
   "cell_type": "code",
   "execution_count": 99,
   "id": "cc17daf6-cabb-43e6-bb0b-4c3c7463088e",
   "metadata": {},
   "outputs": [],
   "source": [
    "mean = np.mean(data, axis=0)"
   ]
  },
  {
   "cell_type": "code",
   "execution_count": 100,
   "id": "d213f611-5191-405c-be39-321a22737834",
   "metadata": {},
   "outputs": [
    {
     "data": {
      "text/plain": [
       "300"
      ]
     },
     "execution_count": 100,
     "metadata": {},
     "output_type": "execute_result"
    }
   ],
   "source": [
    "data.size"
   ]
  },
  {
   "cell_type": "code",
   "execution_count": 101,
   "id": "8780e898-fe35-4d7b-a490-1c0ad6ad80bd",
   "metadata": {},
   "outputs": [],
   "source": [
    "std = np.std(data,axis=0)"
   ]
  },
  {
   "cell_type": "code",
   "execution_count": 102,
   "id": "fbd694e5-4e2f-4bb0-a53e-36a0d5d63ac5",
   "metadata": {},
   "outputs": [],
   "source": [
    "normalized_data = (data - mean)/std"
   ]
  },
  {
   "cell_type": "code",
   "execution_count": 103,
   "id": "b2208781-4bf7-4b9b-9870-4bea7308c1d7",
   "metadata": {},
   "outputs": [
    {
     "data": {
      "text/plain": [
       "array([[ 1.15808984e+00, -1.59438044e-01,  7.03503525e-01],\n",
       "       [-8.01778889e-01,  1.49961785e+00, -1.19363419e-03],\n",
       "       [ 5.84846166e-01,  1.22027701e+00,  1.06329842e-01],\n",
       "       [ 2.13580877e-01,  6.89493435e-01, -9.49994690e-01],\n",
       "       [-1.72678996e+00, -6.27652734e-01,  4.38306214e-01]])"
      ]
     },
     "execution_count": 103,
     "metadata": {},
     "output_type": "execute_result"
    }
   ],
   "source": [
    "normalized_data[:5,:]\n"
   ]
  },
  {
   "cell_type": "markdown",
   "id": "5285796f-5440-4b60-96f0-6fa9c4dd7254",
   "metadata": {},
   "source": [
    "# Machine Learning feature scaling"
   ]
  },
  {
   "cell_type": "code",
   "execution_count": 104,
   "id": "53ff3690-65f9-48cd-9e66-39182b61fe5d",
   "metadata": {},
   "outputs": [],
   "source": [
    "#from sklearn.datasets import load_iris"
   ]
  },
  {
   "cell_type": "markdown",
   "id": "15ff0405-3295-4fe3-8d02-a277c8b4b911",
   "metadata": {},
   "source": [
    "# Iterating over arrays using loop"
   ]
  },
  {
   "cell_type": "code",
   "execution_count": 105,
   "id": "13426f7e-46ce-44b0-ab60-ae381c4efe78",
   "metadata": {},
   "outputs": [],
   "source": [
    "ai = np.array([1,2,3,4,5,6,7,8,9])"
   ]
  },
  {
   "cell_type": "code",
   "execution_count": 106,
   "id": "85416b87-f3f2-4b5b-90ba-6e118266f520",
   "metadata": {},
   "outputs": [
    {
     "name": "stdout",
     "output_type": "stream",
     "text": [
      "1\n",
      "2\n",
      "3\n",
      "4\n",
      "5\n",
      "6\n",
      "7\n",
      "8\n",
      "9\n"
     ]
    }
   ],
   "source": [
    "for items in ai:\n",
    "    print(items)"
   ]
  },
  {
   "cell_type": "code",
   "execution_count": 107,
   "id": "476299a2-6e34-4e81-bac4-1c00cd8ec3da",
   "metadata": {},
   "outputs": [],
   "source": [
    "ai2 = np.array([[1,2,3],[4,5,6],[7,8,9]])"
   ]
  },
  {
   "cell_type": "code",
   "execution_count": 108,
   "id": "3802d333-2b83-48c6-b7e8-a78a2a4d0082",
   "metadata": {},
   "outputs": [
    {
     "name": "stdout",
     "output_type": "stream",
     "text": [
      "1\n",
      "2\n",
      "3\n",
      "4\n",
      "5\n",
      "6\n",
      "7\n",
      "8\n",
      "9\n"
     ]
    }
   ],
   "source": [
    "for row in ai2:\n",
    "    for item in row:\n",
    "        print(item)"
   ]
  },
  {
   "cell_type": "markdown",
   "id": "8e8c0622-f3b6-48ca-951d-e13783b29354",
   "metadata": {},
   "source": [
    "# Basic statistics"
   ]
  },
  {
   "cell_type": "code",
   "execution_count": 119,
   "id": "ff514980-2b56-4685-bec1-e89d3b021255",
   "metadata": {},
   "outputs": [],
   "source": [
    "at = np.array([10,22,34,54,15])\n"
   ]
  },
  {
   "cell_type": "code",
   "execution_count": 120,
   "id": "b715af4e-9124-45c3-8b4b-6b9f045fec29",
   "metadata": {},
   "outputs": [
    {
     "data": {
      "text/plain": [
       "27.0"
      ]
     },
     "execution_count": 120,
     "metadata": {},
     "output_type": "execute_result"
    }
   ],
   "source": [
    "np.mean(at)"
   ]
  },
  {
   "cell_type": "code",
   "execution_count": 121,
   "id": "7eab24a7-633d-41ca-9d23-b79cc6377d9f",
   "metadata": {},
   "outputs": [
    {
     "data": {
      "text/plain": [
       "22.0"
      ]
     },
     "execution_count": 121,
     "metadata": {},
     "output_type": "execute_result"
    }
   ],
   "source": [
    "np.median(at)"
   ]
  },
  {
   "cell_type": "code",
   "execution_count": 122,
   "id": "d1f4a8a4-01b2-4a3c-8dbd-7d500460e772",
   "metadata": {},
   "outputs": [
    {
     "data": {
      "text/plain": [
       "247.2"
      ]
     },
     "execution_count": 122,
     "metadata": {},
     "output_type": "execute_result"
    }
   ],
   "source": [
    "np.var(at)  #Variance"
   ]
  },
  {
   "cell_type": "code",
   "execution_count": 123,
   "id": "f5cbe067-8dfc-4ae9-86b8-e0b3c9d4f5a6",
   "metadata": {},
   "outputs": [
    {
     "data": {
      "text/plain": [
       "15.722595205626837"
      ]
     },
     "execution_count": 123,
     "metadata": {},
     "output_type": "execute_result"
    }
   ],
   "source": [
    "np.std(at)  # standard deviation"
   ]
  },
  {
   "cell_type": "code",
   "execution_count": 124,
   "id": "885c4991-1b59-437b-a545-5fde42f0a9b1",
   "metadata": {},
   "outputs": [
    {
     "name": "stdout",
     "output_type": "stream",
     "text": [
      "54\n",
      "10\n"
     ]
    }
   ],
   "source": [
    "print(np.max(at))\n",
    "print(np.min(at))"
   ]
  },
  {
   "cell_type": "markdown",
   "id": "c6b1fbfa-3747-47e6-8cf2-2c7494ff1faf",
   "metadata": {},
   "source": [
    "# Airports cabs data analysis"
   ]
  },
  {
   "cell_type": "code",
   "execution_count": 125,
   "id": "5de06fbe-b304-4f15-b1f1-f22596ce382d",
   "metadata": {},
   "outputs": [],
   "source": [
    "taxi = np.genfromtxt('nyc_taxis.csv', delimiter = ',', skip_header = True)"
   ]
  },
  {
   "cell_type": "code",
   "execution_count": 126,
   "id": "d15b4d5c-8ae6-4538-8bc1-1b3785b51742",
   "metadata": {},
   "outputs": [],
   "source": [
    "speed = taxi[:,7] / (taxi[:,8] / 3600)"
   ]
  },
  {
   "cell_type": "code",
   "execution_count": 127,
   "id": "c39def84-e9bb-4217-aee8-ef7cf3761451",
   "metadata": {},
   "outputs": [
    {
     "data": {
      "text/plain": [
       "32.24258580925573"
      ]
     },
     "execution_count": 127,
     "metadata": {},
     "output_type": "execute_result"
    }
   ],
   "source": [
    "np.mean(speed)"
   ]
  },
  {
   "cell_type": "code",
   "execution_count": 128,
   "id": "1049fbae-622f-4f5d-b454-7016e3bbd1e9",
   "metadata": {},
   "outputs": [],
   "source": [
    "rides_feb = taxi[taxi[:,1] == 2 , 1]"
   ]
  },
  {
   "cell_type": "code",
   "execution_count": 129,
   "id": "87851733-9158-4977-a79d-d733d14c3f2d",
   "metadata": {},
   "outputs": [
    {
     "data": {
      "text/plain": [
       "13333"
      ]
     },
     "execution_count": 129,
     "metadata": {},
     "output_type": "execute_result"
    }
   ],
   "source": [
    "np.size(rides_feb)"
   ]
  },
  {
   "cell_type": "code",
   "execution_count": 130,
   "id": "423890ff-c91d-46b1-9486-3714ecd2d387",
   "metadata": {},
   "outputs": [
    {
     "name": "stdout",
     "output_type": "stream",
     "text": [
      "16\n"
     ]
    }
   ],
   "source": [
    "print(taxi[taxi[:,-3] > 50,-3].size)"
   ]
  },
  {
   "cell_type": "code",
   "execution_count": 131,
   "id": "dc650181-ad80-428c-8dce-c6256fbc13b3",
   "metadata": {},
   "outputs": [],
   "source": [
    "JFK_rides = taxi[taxi[:,6] == 2, 6]"
   ]
  },
  {
   "cell_type": "code",
   "execution_count": 133,
   "id": "b88065bb-5aae-471e-b0a8-6263b07aded0",
   "metadata": {},
   "outputs": [
    {
     "name": "stdout",
     "output_type": "stream",
     "text": [
      "11832\n"
     ]
    }
   ],
   "source": [
    "print(JFK_rides.size)"
   ]
  }
 ],
 "metadata": {
  "kernelspec": {
   "display_name": "Python 3 (ipykernel)",
   "language": "python",
   "name": "python3"
  },
  "language_info": {
   "codemirror_mode": {
    "name": "ipython",
    "version": 3
   },
   "file_extension": ".py",
   "mimetype": "text/x-python",
   "name": "python",
   "nbconvert_exporter": "python",
   "pygments_lexer": "ipython3",
   "version": "3.11.4"
  }
 },
 "nbformat": 4,
 "nbformat_minor": 5
}
